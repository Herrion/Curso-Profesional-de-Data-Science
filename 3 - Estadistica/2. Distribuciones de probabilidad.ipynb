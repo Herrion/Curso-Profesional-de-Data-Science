{
 "cells": [
  {
   "cell_type": "markdown",
   "metadata": {},
   "source": [
    "# Distribuciones de probabilidad"
   ]
  },
  {
   "cell_type": "markdown",
   "metadata": {},
   "source": [
    "![statics](../assets/stadistics.jpg)"
   ]
  },
  {
   "cell_type": "markdown",
   "metadata": {},
   "source": [
    "Una distribución de probabilidad es realmente una tabla de búsqueda para ver qué tan probable es un resultado. Esos resultados son los valores de una variable aleatoria.\n",
    "\n",
    "Así que cuando vemos una distribución de probabilidad que parece un montón de bloques\n",
    "eso es lo que estamos haciendo, es sólo visualizar las probabilidades de observar cada uno de estos eventos.\n",
    "\n",
    "Las variables aleatorias además pueden ser de 2 tipos:\n",
    "\n",
    "* Continuas: Pueden tomar cualquier valor dentro del espectro de números reales, por ejemplo: al decir entre 4 y 5 años existen los valores: 4.7, 4.9, 4.6242424242, etc.\n",
    "\n",
    "* Discreta: No hay valores intermedios que podamos observar, se pueden ver como \"categorías, por ejemplo: decir que tenemos el color azul, verde, rojo, no se puede decir que tengo 0.5 de azul y 0.3 de verde.\n",
    "\n",
    "Y justo para cada tipo de variable aleatoria tenemos funciones de distribución de probabilidad distintas:\n",
    "\n",
    "* Las funciones de densidad de probabilidad son las funciones de distribución de probabilidad\n",
    "    para variables aleatorias continua.\n",
    "* Las funciones de masa de probabilidad son las funciones de distribución de probabilidad\n",
    "    para variables aleatorias discretas.\n",
    "\n",
    "Las funciones de densidad de probabilidad nos ofrecen un conjunto de información extremadamente rica sobre el cual basar las decisiones. Desafortunadamente, en el mundo real no se nos dan funciones de distribución de probabilidad.\n",
    "\n",
    "Así que, lo que la estadística nos permite hacer es observar datos que recogemos en el mundo real y trabajar hacia atrás, tomar esos datos e inferir cuál podría ser la FDP subyacente que generó esos datos.\n"
   ]
  },
  {
   "cell_type": "code",
   "execution_count": null,
   "metadata": {
    "collapsed": true
   },
   "outputs": [],
   "source": []
  }
 ],
 "metadata": {
  "kernelspec": {
   "display_name": "Python 3",
   "language": "python",
   "name": "python3"
  },
  "language_info": {
   "codemirror_mode": {
    "name": "ipython",
    "version": 3
   },
   "file_extension": ".py",
   "mimetype": "text/x-python",
   "name": "python",
   "nbconvert_exporter": "python",
   "pygments_lexer": "ipython3",
   "version": "3.6.2"
  }
 },
 "nbformat": 4,
 "nbformat_minor": 2
}
