{
 "cells": [
  {
   "cell_type": "markdown",
   "metadata": {},
   "source": [
    "# Estadística y su aplicación en Data Science"
   ]
  },
  {
   "cell_type": "markdown",
   "metadata": {},
   "source": [
    "![estadistica](../assets/stadistics.jpg)"
   ]
  },
  {
   "cell_type": "markdown",
   "metadata": {},
   "source": [
    "**La estadística es en realidad un lenguaje a través del cual podemos comprender el mundo.** Hace dos cosas principales por nosotros:\n",
    "\n",
    "* La primera es que la estadística nos da una manera de **cuantificar con precisión y comunicar la incertidumbre.** Ésta podría ser incertidumbre acerca de cierto parámetro de un modelo de machine learning hacia otro data scientist, podría ser incertidumbre acerca de cierto proceso de negocios hacia una persona en la dirección.\n",
    "\n",
    "* La estadística también nos da una mejor comprensión de nuestra organización. Y nos permite tomar decisiones más sobrias y auto conscientes en este respecto. Estas decisiones se basan en lo que dicen los datos en lugar de una especie de presentimiento que quizás tuvimos en camino a nuestro trabajo.\n",
    "\n",
    "Entonces, si alguien viene a nosotros y dice:\n",
    "\n",
    "**¿Cuál es la probabilidad de sacar entre dos y cinco de un dado?**\n",
    "\n",
    "Podemos decir: “bueno, es 1/3 porque los valores entre dos y cinco en el intervalo abierto son tres y cuatro, lo cual abarca dos de nuestros seis valores. Así que, de nuevo, eso nos da 1/3.”\n",
    "\n",
    "En el mundo real en la mayoría de los casos tenemos exactamente lo contrario:\n",
    "\n",
    "Observamos datos, así que estamos viendo ese dado. No vemos a la persona que lo lanza,\n",
    "realmente no sabemos qué es ese dado. Solamente vemos una lista de números, vemos cuatro, cinco, dos, dos, seis, cuatro, tres, uno, etc.\n",
    "\n",
    "La idea es: cuantos más datos observamos, mejor podemos inferir cuál es el verdadero proceso que genera esos datos.\n",
    "\n",
    "Para comprender cómo llevar a cabo la inferencia estadística lo primero que debemos entender es qué son las **variables aleatorias.**\n",
    "\n",
    "Una variable aleatoria es: \"algo que puede tomar muchos valores diferentes.\"\n",
    "Una vez más: algo que puede tomar muchos valores diferentes.\n",
    "\n",
    "**Así que algunos ejemplos de algo que puede tomar muchos valores diferentes, podría ser el color de la camisa que personalmente uso los lunes.**\n",
    "\n",
    "De modo que este podría tomar los valores, bueno, para los que me conocen probablemente es gris, o azul, o alguna variación de verde claro.\n",
    "\n",
    "OK, nuevamente, esa es una variable aleatoria.\n"
   ]
  },
  {
   "cell_type": "code",
   "execution_count": null,
   "metadata": {
    "collapsed": true
   },
   "outputs": [],
   "source": []
  }
 ],
 "metadata": {
  "kernelspec": {
   "display_name": "Python 3",
   "language": "python",
   "name": "python3"
  },
  "language_info": {
   "codemirror_mode": {
    "name": "ipython",
    "version": 3
   },
   "file_extension": ".py",
   "mimetype": "text/x-python",
   "name": "python",
   "nbconvert_exporter": "python",
   "pygments_lexer": "ipython3",
   "version": "3.6.2"
  }
 },
 "nbformat": 4,
 "nbformat_minor": 2
}
