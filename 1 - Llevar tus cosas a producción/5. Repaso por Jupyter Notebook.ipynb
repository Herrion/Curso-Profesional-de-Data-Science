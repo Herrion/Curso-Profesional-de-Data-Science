{
 "cells": [
  {
   "cell_type": "markdown",
   "metadata": {},
   "source": [
    "# 5. Repaso por Jupyter Notebook"
   ]
  },
  {
   "cell_type": "markdown",
   "metadata": {},
   "source": [
    "![ping-data.gif](../assets/ping-data.gif)\n",
    "    <sub>Data que genera un ping de una botnet a traves de todo el mundo.</sub>"
   ]
  },
  {
   "cell_type": "markdown",
   "metadata": {},
   "source": [
    "# Guide for Data Science\n",
    "\n",
    "[Guide for Data Science](../assets/data_science_slides.pdf)"
   ]
  },
  {
   "cell_type": "markdown",
   "metadata": {},
   "source": [
    "Cuando prototipamos soluciones de data science a menudo nos encontramos utilizando cuadernos interactivos. Estos cuadernos interactivos nos permiten ejecutar código, sin ningún orden en particular. Lo que es muy bueno porque el proceso de construir soluciones de data science es a menudo muy iterativo.\n",
    "\n",
    "En el caso puntual de python usamos un notebook llamado Jupyter. Desde la terminal ejecutamos:\n",
    "\n",
    "`pip install Jupyter`\n",
    "\n",
    "Una vez instalado, podemos ejecutar jupyter con:\n",
    "\n",
    "`jupyter notebook`\n",
    "\n",
    "Es realmente importante entender que Jupyter, de hecho el proyecto Jupyter, esta libreta es agnóstica al lenguaje. Es decir, podemos usarla con una gran variedad de lenguajes.\n",
    "\n",
    "Entonces desde un cuaderno interactivo, podemos cargar datos y podemos inspeccionar esos datos. Podemos crear visualizaciones en línea, por supuesto podemos estas celdas fuera de orden también.\n",
    "Como data scientist esto podría sonar muy natural de hecho, tener este ambiente de trabajo interactivo, flexible, iterativo.\n",
    "\n",
    "Para muchos ingenieros de software de hecho esta herramienta les parece muy distante, para muchos ingenieros de software donde escribimos scripts, estamos escribiendo código que ejecutamos continuamente. es decir, escribimos algo de código, y ejecutamos el script entero,\n",
    "entonces no tenemos la opción o incluso la noción de ser capaces de ejecutar tan fácil ese script, de alguna forma sin orden, ejecutando la primer linea y luego la cuarta linea y la tercera,\n",
    "porque lo escribimos como tal para que funcione con cierta cronología.\n",
    "\n",
    "Si no usas Jupyter existen otras opciones, Rodeo es una, Zeppelin es otra. Lo importante es que explores otras opciones.\n"
   ]
  },
  {
   "cell_type": "code",
   "execution_count": null,
   "metadata": {
    "collapsed": true
   },
   "outputs": [],
   "source": []
  }
 ],
 "metadata": {
  "kernelspec": {
   "display_name": "Python 3",
   "language": "python",
   "name": "python3"
  },
  "language_info": {
   "codemirror_mode": {
    "name": "ipython",
    "version": 3
   },
   "file_extension": ".py",
   "mimetype": "text/x-python",
   "name": "python",
   "nbconvert_exporter": "python",
   "pygments_lexer": "ipython3",
   "version": "3.6.2"
  }
 },
 "nbformat": 4,
 "nbformat_minor": 2
}
