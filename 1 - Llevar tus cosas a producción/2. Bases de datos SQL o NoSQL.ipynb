{
 "cells": [
  {
   "cell_type": "markdown",
   "metadata": {},
   "source": [
    "# 2. Bases de datos: SQL o NoSQL "
   ]
  },
  {
   "cell_type": "markdown",
   "metadata": {},
   "source": [
    "![ping-data.gif](../assets/ping-data.gif)\n",
    "    <sub>Data que genera un ping de una botnet a traves de todo el mundo.</sub>"
   ]
  },
  {
   "cell_type": "markdown",
   "metadata": {},
   "source": [
    "# Guide for Data Science\n",
    "\n",
    "[Guide for Data Science](../assets/data_science_slides.pdf)"
   ]
  },
  {
   "cell_type": "markdown",
   "metadata": {},
   "source": [
    "Cuando hablamos de bases de datos hablamos de bases de datos, o más coloquialmente, almacenes de datos SQL, o almacenes de datos NoSQL.\n",
    "\n",
    "Un almacén de datos SQL se ocupa de datos más estructurados,\n",
    "así que cuando hablamos de escribir datos en una base de datos hablamos de registros. En realidad un registro es cada cosa que ha pasado.\n",
    "\n",
    "Por el contrario, una base de datos NoSQL no tiene la misma estructura implícita. De modo que cada registro podría contener o no cosas diferentes.\n",
    "\n",
    "Al hablar de bases de datos SQL hablamos acerca de SQLite, MySQL, PostgreSQL y Redshift.\n",
    "\n",
    "Al hablar de almacenes de datos NoSQL vemos MongoDB, que es un almacén de datos para documentos, Redis, un almacén clave-valor, y tanto Giraph como Neo4j son bases de datos gráficas.\n",
    "\n",
    "Así que, al escoger una base de datos tenemos que hacernos algunas preguntas.\n",
    "\n",
    "\n",
    "* ¿Qué tipo de consultas haremos sobre esta base de datos?\n",
    "\n",
    "* ¿Le estaremos pidiendo a nuestra base de datos pedazos grandes y planos de datos?\n",
    "\n",
    "* ¿Estaremos haciendo un montón de agregaciones como suma, media o máximo al momento de la consulta?\n",
    "\n",
    "* ¿O estaremos escribiendo sobre esta base de datos más que leyendo de ella?\n",
    "\n",
    "Así que, al escoger una base de datos, cada situación es diferente. Tu problema tiene diferentes necesidades que el problema de alguien más.\n",
    "\n",
    "Así que en realidad, para bases de datos,no existe una “talla única”.\n"
   ]
  },
  {
   "cell_type": "code",
   "execution_count": null,
   "metadata": {
    "collapsed": true
   },
   "outputs": [],
   "source": []
  }
 ],
 "metadata": {
  "kernelspec": {
   "display_name": "Python 3",
   "language": "python",
   "name": "python3"
  },
  "language_info": {
   "codemirror_mode": {
    "name": "ipython",
    "version": 3
   },
   "file_extension": ".py",
   "mimetype": "text/x-python",
   "name": "python",
   "nbconvert_exporter": "python",
   "pygments_lexer": "ipython3",
   "version": "3.6.2"
  }
 },
 "nbformat": 4,
 "nbformat_minor": 2
}
