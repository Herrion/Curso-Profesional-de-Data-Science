{
 "cells": [
  {
   "cell_type": "markdown",
   "metadata": {},
   "source": [
    "# 3. ETL(Extraer, Transformar y Cargar)"
   ]
  },
  {
   "cell_type": "markdown",
   "metadata": {},
   "source": [
    "![ping-data.gif](../assets/ping-data.gif)\n",
    "    <sub>Data que genera un ping de una botnet a traves de todo el mundo.</sub>"
   ]
  },
  {
   "cell_type": "markdown",
   "metadata": {},
   "source": [
    "# Guide for Data Science\n",
    "\n",
    "[Guide for Data Science](../assets/data_science_slides.pdf)"
   ]
  },
  {
   "cell_type": "markdown",
   "metadata": {},
   "source": [
    "**ETL** es una sigla en inglés para “Extraer, Transformar y Cargar”.\n",
    "\n",
    "Por ejemplo, un proceso ETL podría consumir datos que se generaron en las cabinas de votación en la ciudad de Nueva York, así que quizás cada registro en estos datos en bruto contiene 50 campos diferentes acerca de ese voto. Pero realmente sólo nos interesan cuatro campos.\n",
    "\n",
    "Así que quizás nos enganchamos a una API de esta cabina de votación, extraemos los datos en bruto, y, por supuesto, esa es la fase **E, “Extraer”**, de ETL.\n",
    "\n",
    "La siguiente es transformar, así que de estos 50 campos podríamos decir: “OK, sólo queremos, sólo nos interesan cuatro de ellos, el nombre del votante, su edad, su partido político, y, desde luego, por quién votó.”\n",
    "\n",
    "A continuación podemos enviar esto en un formato con el cual vamos a arrojar esos datos a nuestra base de datos. Así que esta es la fase **T, “Transformar”**. Y finalmente **“Cargar”**, lo cual implica tomar estos datos y persistirlos en nuestra base de datos.\n",
    "\n",
    "**Así que, al hablar de ETL y qué tanto hacemos en la labor de llevar nuestras cosas a producción.**\n",
    "\n",
    "Cuando creamos modelos matemáticos queremos datos limpios, datos actuales,\n",
    "y la manera de obtenerlos es construyendo procesos ETL que efectivamente nos los traigan.\n",
    "Nuevamente, como organización estamos tratando con una gran cantidad de datos que vienen de afuera y tomamos esos datos, los transformamos y luego los almacenamos para usarlos como data scientists.\n",
    "\n",
    "Así que hasta ahora hemos hablado de los procesos ETL como nuestro brazo hacia el mundo exterior\n",
    "\n",
    "Como data scientists nos encontramos escribiendo un buen número de procesos ETL, esta no es la parte sexy del trabajo, esta es la parte del trabajo que a las personas, digamos, les emociona menos hacer.\n",
    "\n",
    "Sin embargo, tener datos limpios para tus modelos de machine learning, quiero decir, es más que indispensable. Con malos datos, ya sabes, hay un dicho en machine learning que dice:\n",
    "\n",
    "    “Si entra basura, sale basura”.\n",
    "\n",
    "Si le alimentamos datos basura a nuestros modelos de machine learning no vamos a ser muy eficaces en nuestro trabajo.\n",
    "\n",
    "Así que, de nuevo, la comunidad detrás de cada marco es un factor muy importante al hacer una decisión realmente inteligente para nuestra organización.\n"
   ]
  },
  {
   "cell_type": "code",
   "execution_count": null,
   "metadata": {
    "collapsed": true
   },
   "outputs": [],
   "source": []
  }
 ],
 "metadata": {
  "kernelspec": {
   "display_name": "Python 3",
   "language": "python",
   "name": "python3"
  },
  "language_info": {
   "codemirror_mode": {
    "name": "ipython",
    "version": 3
   },
   "file_extension": ".py",
   "mimetype": "text/x-python",
   "name": "python",
   "nbconvert_exporter": "python",
   "pygments_lexer": "ipython3",
   "version": "3.6.2"
  }
 },
 "nbformat": 4,
 "nbformat_minor": 2
}
