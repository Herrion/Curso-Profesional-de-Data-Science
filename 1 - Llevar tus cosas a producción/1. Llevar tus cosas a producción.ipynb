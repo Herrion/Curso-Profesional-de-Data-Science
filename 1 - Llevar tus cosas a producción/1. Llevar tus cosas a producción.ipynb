{
 "cells": [
  {
   "cell_type": "markdown",
   "metadata": {},
   "source": [
    "# 1. Llevar tus cosas a producción"
   ]
  },
  {
   "cell_type": "markdown",
   "metadata": {},
   "source": [
    "![ping-data.gif](../assets/ping-data.gif)\n",
    "    <sub>Data que genera un ping de una botnet a traves de todo el mundo.</sub>"
   ]
  },
  {
   "cell_type": "markdown",
   "metadata": {
    "collapsed": true
   },
   "source": [
    "# Guide for Data Science\n",
    "\n",
    "[Guide for Data Science](../assets/data_science_slides.pdf)"
   ]
  },
  {
   "cell_type": "markdown",
   "metadata": {
    "collapsed": true
   },
   "source": [
    "**Llevar tus cosas a producción significa tomar tu solución y construirle un sistema de ingeniería** de modo que podamos olvidarlo e irnos a dormir o trabajar en un problema mejor.\n",
    "\n",
    "### Pongamos de ejemplo a Spotify\n",
    "\n",
    "Imagina registrar semanalmente tu playlist de “Descubrimiento Semanal” en **Spotify** y clasificar esas predicciones en tu dispositivo. Mediante un cuaderno interactivo construiríamos un modelo matemático que consumiría la actividad que el usuario tiene en la plataforma, es decir, las canciones que ha escuchado, y, a partir de esa actividad, genera recomendaciones de otras canciones que también podría disfrutar. Así que este es en gran medida un problema matemático, de **Machine Learning**.\n",
    "\n",
    "Todo es un largo proceso el que atravesamos para hacer un prototipo en un cuaderno interactivo y en teoría podemos hacerlo con lápiz y papel, pero de manera más práctica, lo hacemos en un cuaderno interactivo de Jupyter, un entorno interactivo de desarrollo.\n",
    "\n",
    "La brecha entre tener resultados que nos gustan y realmente entregar esas playlists en una forma agradable y consumible a todos los dispositivos de los usuarios de Spotify es bastante grande.\n",
    "\n",
    "Cuanto mejor entiendas un modelo matemático que estás llevando a producción, mejor será el sistema de producción que puedas crear. Si entiendes cómo funciona el algoritmo que, por ejemplo, está registrando las recomendaciones de Spotify, si entiendes sus posibilidades, su capacidad para ser paralelizado en diferentes servidores, etc. ese sistema de ingeniería que puedas construir a su alrededor será **mejor**.\n",
    "\n",
    "No tienes que hacerlo todo como data scientist, pero si lo suficiente para guiar a tu equipo de ingeniería a llevar a cabo esto. Y esto es lo que significa “llevar tus cosas a producción”, **construir un sistema de ingeniería a partir de tu solución de data science**.\n"
   ]
  },
  {
   "cell_type": "code",
   "execution_count": null,
   "metadata": {
    "collapsed": true
   },
   "outputs": [],
   "source": []
  }
 ],
 "metadata": {
  "kernelspec": {
   "display_name": "Python 3",
   "language": "python",
   "name": "python3"
  },
  "language_info": {
   "codemirror_mode": {
    "name": "ipython",
    "version": 3
   },
   "file_extension": ".py",
   "mimetype": "text/x-python",
   "name": "python",
   "nbconvert_exporter": "python",
   "pygments_lexer": "ipython3",
   "version": "3.6.2"
  }
 },
 "nbformat": 4,
 "nbformat_minor": 2
}
