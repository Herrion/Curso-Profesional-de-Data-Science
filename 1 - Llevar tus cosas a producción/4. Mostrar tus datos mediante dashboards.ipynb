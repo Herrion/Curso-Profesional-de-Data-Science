{
 "cells": [
  {
   "cell_type": "markdown",
   "metadata": {},
   "source": [
    "# 4. Mostrar tus datos mediante dashboards"
   ]
  },
  {
   "cell_type": "markdown",
   "metadata": {},
   "source": [
    "![ping-data.gif](../assets/ping-data.gif)\n",
    "    <sub>Data que genera un ping de una botnet a traves de todo el mundo.</sub>"
   ]
  },
  {
   "cell_type": "markdown",
   "metadata": {},
   "source": [
    "# Guide for Data Science\n",
    "\n",
    "[Guide for Data Science](../assets/data_science_slides.pdf)"
   ]
  },
  {
   "cell_type": "markdown",
   "metadata": {},
   "source": [
    "Creo que todos sabemos qué es un panel de control, Cuando hablamos de llevar nuestras cosas a producción, la brecha entre tener una solución que nos gusta, en un cuaderno interactivo de desarrollo, y crear ese panel de control, el paso en el medio es en realidad llevar tus cosas a producción.\n",
    "La creación de paneles de control es sólo poner una especie de agradable capa visual encima de eso, una capa que hace muy fácil consumir el trabajo que acabamos de llevar a producción.\n",
    "\n",
    "Hay varias grandes razones para usar paneles de control.\n",
    "\n",
    "   * La primera es la inteligencia empresarial interna. Estos pueden mostrar cosas como ttiempo de actividad del servidor, pueden mostrar cosas como disponibilidad en atención al cliente.\n",
    "\n",
    "   * Otra razón es reducir la carga cognitiva las fotos son bonitas y simplifican las cosas. Simplemente, como data scientists, eliminar la necesidad de escribir una consulta SQL\n",
    "    cada vez que queremos una cierta información es realmente un gran triunfo.\n",
    "\n",
    "Muchas organizaciones de data science, en especial las más jóvenes, están en la fase en la que otros departamentos que tienen dudas acerca de los datos de su compañíales envían correos diciendo “oye, ¿puedes escribirme una consulta SQL?, porque no sé cómo hacerlo yo.”, eso no es nada escalable.\n",
    "\n",
    "De hecho un panel de control es algo bastante simple. Y muchas personas han creado excelentes infraestructuras para paneles de control algunas son un poco diferentes, algunas son más para producción, algunas son más para creación de prototipos, algo que citas día de por medio\n",
    "como data scientist. De nuevo, reducir la carga cognitiva, tener la capacidad de ver las cosas gráficamente y, en cierto modo, atar un lindo lazo a tu trabajo realmente hace más fácil enfocarse en otras cosas,en problemas que aún no has resuelto.\n",
    "\n",
    "Así que construir tu propio panel de control, al menos desde ceros, muy probablemente es una pésima idea.\n"
   ]
  },
  {
   "cell_type": "markdown",
   "metadata": {},
   "source": [
    "Un excelente dashboard para PostgreSQL es Looker"
   ]
  },
  {
   "cell_type": "code",
   "execution_count": null,
   "metadata": {
    "collapsed": true
   },
   "outputs": [],
   "source": []
  }
 ],
 "metadata": {
  "kernelspec": {
   "display_name": "Python 3",
   "language": "python",
   "name": "python3"
  },
  "language_info": {
   "codemirror_mode": {
    "name": "ipython",
    "version": 3
   },
   "file_extension": ".py",
   "mimetype": "text/x-python",
   "name": "python",
   "nbconvert_exporter": "python",
   "pygments_lexer": "ipython3",
   "version": "3.6.2"
  }
 },
 "nbformat": 4,
 "nbformat_minor": 2
}
