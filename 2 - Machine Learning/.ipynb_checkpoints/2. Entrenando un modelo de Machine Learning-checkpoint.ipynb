{
 "cells": [
  {
   "cell_type": "markdown",
   "metadata": {},
   "source": [
    "# Entrenando un modelo de Machine Learning"
   ]
  },
  {
   "cell_type": "markdown",
   "metadata": {},
   "source": [
    "![londonBigdata](../assets/londonBigdata.gif)"
   ]
  },
  {
   "cell_type": "markdown",
   "metadata": {},
   "source": [
    "Machine learning es el proceso de enseñarles a las computadoras a entender patrones en los datos, destinado a imitar ese proceso de cómo los humanos: “nosotros intuimos patrones en los datos y luego entendemos esos patrones, y hacemos predicciones.”\n",
    "\n",
    "El ejemplo al que más cariño le tengo de hecho es el de un radiólogo.\n",
    "\n",
    "Quién busca en los rayos X y dice, bien estos rayos X muestran un tumor, y el otro de hecho no tiene un tumor.\n",
    "\n",
    "Y entonces como humanos ¿Cómo hacemos esto?, ¿Cómo un radiólogo interpreta esto?\n",
    "\n",
    "Y la forma en la que lo hacemos es viendo rayos X, consultando con expertos, y diciendo: “OK, aquí hay unos rayos X,” y el experto dice: “este tiene un tumor.”, aquí hay otros y el experto dice: “estos no tienen un tumor.” Y conforme pasa el tiempo como radiólogos aprenden, cada día, viendo nuevos datos, nuevos ejemplos.\n",
    "\n",
    "Y comenzamos a entender los patrones más y más, mejor y mejor,\n",
    "\n",
    "Lo primero que entender sobre modelos de machine learning es que ellos realmente están haciendo lo mismo. Ellos están tomando esa imagen insertada con una etiqueta, y están entendiendo, intuyendo, descubriendo patrones en esa imagen, que relacionan las diferentes cosas que están presentes o no en esa imagen, con la pregunta: ¿Tenemos un tumor presente o no?\n",
    "\n",
    "    Y las diferencias fundamentales entre un humano y un modelo de machine learning, son esas dos cosas que he mencionado antes, la cantidad de datos que ese modelo puede recibir, y la velocidad a la que el modelo puede consumir esos datos.\n",
    "\n",
    "¿Cómo tomamos una foto y la cuantificamos o codificamos en números?, Una sobre las maneras canónicas de hacer esto, es que una foto no es nada más que un conjunto de pixeles, y cada pixel tiene un valor numérico que describe el color de ese pixel.\n",
    "\n",
    "#### Otro tipo de modelo de machine learning son los que se llaman modelos no supervisados.\n",
    "\n",
    "Por ejemplo como niño, ya sabes, aprendes si te pegas con algo y duele, lo que no pasó aquí es alguien diciendo\n",
    "\n",
    "    “Si te pegas con esto, si haces esta acción, va a doler.”\n",
    "\n",
    "Entonces en modelos no supervisados, la diferencia fundamental en términos matemáticos es el vector de etiquetas atadas a nuestros ejemplos. Pero aún podemos pasar ejemplos a un modelo de machine learning, y hacer que hasta cierto punto entienda la estructura en ese modelo.\n",
    "\n",
    "Tenemos muchos algoritmos de Machine Learning y separando un poco:\n",
    "\n",
    "    Regresión y clasificación serán modelos supervisados.\n",
    "    Agrupamiento y reducción de dimensionalidad serán modelos no supervisados.\n",
    "\n"
   ]
  },
  {
   "cell_type": "code",
   "execution_count": null,
   "metadata": {
    "collapsed": true
   },
   "outputs": [],
   "source": []
  }
 ],
 "metadata": {
  "kernelspec": {
   "display_name": "Python 3",
   "language": "python",
   "name": "python3"
  },
  "language_info": {
   "codemirror_mode": {
    "name": "ipython",
    "version": 3
   },
   "file_extension": ".py",
   "mimetype": "text/x-python",
   "name": "python",
   "nbconvert_exporter": "python",
   "pygments_lexer": "ipython3",
   "version": "3.6.2"
  }
 },
 "nbformat": 4,
 "nbformat_minor": 2
}
