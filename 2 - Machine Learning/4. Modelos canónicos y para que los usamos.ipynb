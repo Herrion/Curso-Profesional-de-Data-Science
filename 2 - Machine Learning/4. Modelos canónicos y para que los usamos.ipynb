{
 "cells": [
  {
   "cell_type": "markdown",
   "metadata": {},
   "source": [
    "# Modelos canónicos y para que los usamos"
   ]
  },
  {
   "cell_type": "markdown",
   "metadata": {},
   "source": [
    "![londonBigdata](../assets/londonBigdata.gif)"
   ]
  },
  {
   "cell_type": "markdown",
   "metadata": {},
   "source": [
    "Averiguar qué modelo funciona mejor en qué situación es 100% cuestión de práctica. Por supuesto existen criterios de orientación. Pero participar en competencias de modelos predictivos,\n",
    "leer publicaciones de blogs, y hacer estas cosas en el trabajo simplemente viendo cómo se desarrollan son realmente los únicos pasos para obtener esta intuición.\n",
    "\n",
    "## Regresión Lineal\n",
    "\n",
    "Los modelos de regresión lineal deben usarse en casos en los que creemos que existe una relación lineal entre cada una de nuestras características, de nuestras entradas, las cuales son sinónimos, y nuestra salida.\n",
    "\n",
    "Sí, que nuestros datos de hecho se ajustan a una tendencia lineal, por lo tanto:\n",
    "No tan poderoso\n",
    "Por esta razón, en casos de tareas de regresión, se supone que es uno de los primeros modelos que pruebes, sólo como un punto de partida.\n",
    "\n",
    "## Maquinas de Vectores de soporte\n",
    "\n",
    "Este es normalmente un algoritmo de clasificación, pero también tiene varianza, de modo que puede ser usado para regresión.\n",
    "Lo que hacen las máquinas de vectores de soporte es hallar el llamado “hiperplano de máxima separación” para dos clases de puntos en un espacio de n dimensiones.\n",
    "Entonces, si graficamos nuestros puntos, si visualizamos nuestros datos y observamos una separación lineal entre estos datos entonces las máquinas de vectores de soporte probablemente son un algoritmo que querremos explorar.\n",
    "\n",
    "## Random Forest.\n",
    "\n",
    "Random forest es en realidad nuestro primer algoritmo no lineal en este conjunto.\n",
    "Y lo que hace, lo que eso significa es que si existen relaciones no lineales entre cada una de nuestras entradas y nuestras salidas un random forest puede descubrir esos patrones mucho mejor de lo que lo haría un modelo de regresión.\n",
    "\n",
    "Los random forest ajustan no sólo un árbol de decisión sino una gran cantidad de árboles de decisión. Y realmente hacen esto en una especie de forma no intuitiva, de hecho. Debido a que en lugar de ajustar cada árbol de decisión en todos los datos es decir, todas las filas, todos nuestros ejemplos, así como todas las características, lo que hacen en cambio es ajustar esos árboles de decisión, cada uno, en un subconjunto aleatorio de las filas y un subconjunto aleatorio de las columnas.\n",
    "\n",
    "Los modelos de random forest también introducen este concepto muy interesante, muy divertido\n",
    "en machine learning que es el de agrupación. La idea es que, en lugar de ajustar un árbol de decisión, ajustar muchos débiles y promediar sus votos.\n",
    "## Redes Neuronales\n",
    "\n",
    "Las redes neuronales no son un algoritmo nuevo. Es algo que ha existido por aproximadamente 75 años. La razón por la que ahora funcionan tan bien son las cantidades masivas de datos, con los cuales entrenar estas redes, que generamos, y también los recursos de cómputo que tenemos fácilmente disponibles con los cuales procesar los datos ya mencionados.\n",
    "\n",
    "El otro punto para aclarar también es cuando hablamos acerca de aprendizaje profundo, El aprendizaje profundo es casi un sinónimo de redes neuronales.\n",
    "\n",
    "Las redes neuronales son normalmente cosas que tienen capas escondidas entre ellas\n",
    "y aprendizaje profundo hace referencia a una red neuronal con muchas capas escondidas, que son una red profunda.\n",
    "\n",
    "Empleamos redes neuronales profundas para entrenarse en lotes grandes de imágenes, audio, video.\n",
    "\n",
    "Así que para hacer esto en un marco de tiempo razonable y haciendo uso de esto del hardware especializado, de nuevo, la tarea de ingeniería es bastante pesada.\n"
   ]
  },
  {
   "cell_type": "code",
   "execution_count": null,
   "metadata": {
    "collapsed": true
   },
   "outputs": [],
   "source": []
  }
 ],
 "metadata": {
  "kernelspec": {
   "display_name": "Python 3",
   "language": "python",
   "name": "python3"
  },
  "language_info": {
   "codemirror_mode": {
    "name": "ipython",
    "version": 3
   },
   "file_extension": ".py",
   "mimetype": "text/x-python",
   "name": "python",
   "nbconvert_exporter": "python",
   "pygments_lexer": "ipython3",
   "version": "3.6.2"
  }
 },
 "nbformat": 4,
 "nbformat_minor": 2
}
