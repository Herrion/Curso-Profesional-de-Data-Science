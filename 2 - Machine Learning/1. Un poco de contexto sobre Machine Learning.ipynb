{
 "cells": [
  {
   "cell_type": "markdown",
   "metadata": {},
   "source": [
    "# Un poco de contexto sobre machine learning"
   ]
  },
  {
   "cell_type": "markdown",
   "metadata": {},
   "source": [
    "![londonBigdata](../assets/londonBigdata.gif)"
   ]
  },
  {
   "cell_type": "markdown",
   "metadata": {},
   "source": [
    "Ya hemos hecho bastante de data science en este curso sin tocar realmente machine learning y para muchas personas esto puede parecer muy extraño.\n",
    "\n",
    "Machine learning es muy importante. Pero lo más importante que debemos entender acerca de machine learning es que ya sabes, debemos formular los problemas de una forma que pueda ser pasada a los modelos de machine learning para interpretar.\n",
    "\n",
    "Y que la formulación de problemas realmente es la habilidad en data science que toma el mayor tiempo para perfeccionar, el mayor tiempo para desarrollar.\n",
    "\n",
    "Los modelos de machine learning normalmente, sin importar el tipo, se crean para dos fines:\n",
    "\n",
    "* El primero es I&D, Investigación y Desarrollo.\n",
    "* El segundo fin es la predicción.\n",
    "\n",
    "Pero en muchos casos, en la práctica, hay una especie de delgada línea entre\n",
    "¿sabes qué? si de verdad funciona bien en estas situaciones de, digamos, predicción multiclase o lo que sea es algo con lo que en cierto modo estamos de acuerdo.\n",
    "\n",
    "Así que, ¿En qué se diferencian los modelos de machine learning de los modelos estadísticos tradicionales?\n",
    "\n",
    "El la mayoría de los casos, un modelo estadístico se efectúa tomando en cuenta un comportamiento previo, en el caso de un modelo de machine learning podemos llegar sin nada, aunque la respuesta puede ser menos acertada, es por eso que hablamos en esta parte de investigación y de predicción.\n"
   ]
  },
  {
   "cell_type": "markdown",
   "metadata": {},
   "source": []
  }
 ],
 "metadata": {
  "kernelspec": {
   "display_name": "Python 3",
   "language": "python",
   "name": "python3"
  },
  "language_info": {
   "codemirror_mode": {
    "name": "ipython",
    "version": 3
   },
   "file_extension": ".py",
   "mimetype": "text/x-python",
   "name": "python",
   "nbconvert_exporter": "python",
   "pygments_lexer": "ipython3",
   "version": "3.6.2"
  }
 },
 "nbformat": 4,
 "nbformat_minor": 2
}
