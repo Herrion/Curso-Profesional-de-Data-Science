{
 "cells": [
  {
   "cell_type": "markdown",
   "metadata": {},
   "source": [
    "# Modelos de regresión, clasificación, clustering y reducción de dimensionalidad "
   ]
  },
  {
   "cell_type": "markdown",
   "metadata": {},
   "source": [
    "![londonBigdata](../assets/londonBigdata.gif)"
   ]
  },
  {
   "cell_type": "markdown",
   "metadata": {},
   "source": [
    "## Regresión\n",
    "\n",
    "**Los modelos de regresión son modelos que predicen valores continuos.**\n",
    "Entonces, por ejemplo, un modelo de regresión podría predecir el número de minutos que el TransMilenio, que es el transporte público aquí en Bogotá, estaría retrasado en una determinada parada en un día determinado; podría predecir el número de votantes que una cabina de votación en Minneapolis necesitaría albergar; o podría predecir el número de pulgadas de lluvia que el desierto de Atacama recibirá el próximo año.\n",
    "\n",
    "Y los modelos de regresión, por supuesto,son algoritmos de aprendizaje supervisado.\n",
    "Así que le alimentamos a estos modelos ejemplos que tienen, ya sabes, algún ejemplo codificado en el espacio vectorial.\n",
    "## Clasificación\n",
    "\n",
    "Los modelos de clasificación predicen una etiqueta. Esta podría ser binaria en el caso del ejemplo de Twitter. “Sí, mi tweet contiene esta palabra clave” o “no, no la contiene”.\n",
    "\n",
    "Podría ser: \"¿Quién ganaría las elecciones presidenciales de los Estados Unidos? ¿Hillary o Trump?\n",
    "\n",
    "*Lo que por supuesto es un problema de clasificación binaria.\n",
    "## Algoritmos de agrupamiento\n",
    "\n",
    "El agrupamiento se usa a menudo como un paso exploratorio en el análisis de datos. Y por supuesto, este es un tipo de algoritmo de machine learning no supervisado.\n",
    "\n",
    "Un ejemplo es agrupar canciones en Spotify codificadas como datos de frecuencia, mejor, datos de frecuencia de audio.\n",
    "\n",
    "¿Cuántos tipos diferentes de canciones tenemos aproximadamente?\n",
    "Es una canción alegre, canciones lentas, canciones con bajo, etc. Quizás tomamos esto como un paso exploratorio antes de aplicar etiquetas a cada canción de Spotify. De modo que quizás Spotify podría tener una pestaña de géneros donde dicen: “Puedes ordenar tu música por el tipo de género en el que cae.”\n",
    "\n",
    "Para algoritmos de agrupamiento hacemos una distinción entre verdaderos algoritmos de agrupamiento y algoritmos de partición:\n",
    "\n",
    "* Un algoritmo de partición pone cada punto que tenemos dentro de algún grupo. Básicamente hace una partición de nuestros datos,divide nuestros datos, estratifica nuestros datos dentro de grupos distintos.\n",
    "* Un algoritmo de agrupamiento aplica alguna lógica por la cual sólo está poniendo un punto dentro de un grupo si pasa ciertos criterios. Y posiblemente, si no lo hace, lo está dejando completamente por fuera.\n",
    "\n",
    "## Reducción de dimensionalidad\n",
    "\n",
    "Finalmente hablaremos de algoritmos de reducción de dimensionalidad. Que es reducir un conjunto de vectores desde una cierta alta dimensionalidad hasta una baja dimensionalidad.\n",
    "Esto es típicamente con dos fines.:\n",
    "\n",
    "* El primero es visualización.\n",
    "\n",
    "En dos dimensiones es muy fácil, ¿verdad? Si nuestros datos, tienen dos dimensiones los ponemos en un plano x-y. Quizás tenemos un grupo por acá, un grupo por acá. Quizás vemos cómo diferentes valores varían entre sí, a medida que un valor sube, normalmente el otro baja, etc. etc. En 20,000 dimensiones en teoría podemos hacerlo, es decir, del mismo modo en que podemos construir visualizaciones en dos dimensiones. El punto es que el espacio de 20,000 dimensiones existe, justo como el espacio en dos dimensiones. Pero como humanos en realidad estamos limitados por nuestra propia intuición, nuestra propia capacidad de mirar fotos y entender lo que realmente nos están diciendo.\n",
    "Como humanos, el espacio en dos dimensiones tiene sentido para nosotros.\n",
    "\n",
    "* La segunda es el costo computacional.\n",
    "\n",
    "Debido a que somos capaces de capitalizar la redundancia en nuestros datos y proyectar esos datos desde un espacio dimensional mayor hasta un espacio dimensional menor\n",
    "sin perder las diferencias entre los puntos de datos, sin perder demasiado de la variación\n",
    "entre las diferentes dimensiones de nuestros puntos de datos. De nuevo, podemos representar nuestros datos en un espacio dimensional menor. Y cuando pasamos estos vectores más pequeños a algoritmos de machine learning por supuesto cuanta menor es la dimensión en la que residen nuestros datos más rápidamente pueden trabajar nuestros algoritmos."
   ]
  },
  {
   "cell_type": "code",
   "execution_count": null,
   "metadata": {
    "collapsed": true
   },
   "outputs": [],
   "source": []
  }
 ],
 "metadata": {
  "kernelspec": {
   "display_name": "Python 3",
   "language": "python",
   "name": "python3"
  },
  "language_info": {
   "codemirror_mode": {
    "name": "ipython",
    "version": 3
   },
   "file_extension": ".py",
   "mimetype": "text/x-python",
   "name": "python",
   "nbconvert_exporter": "python",
   "pygments_lexer": "ipython3",
   "version": "3.6.2"
  }
 },
 "nbformat": 4,
 "nbformat_minor": 2
}
