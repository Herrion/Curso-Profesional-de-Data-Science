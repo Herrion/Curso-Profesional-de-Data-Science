{
 "cells": [
  {
   "cell_type": "markdown",
   "metadata": {},
   "source": [
    "# Más modelos Canonicos"
   ]
  },
  {
   "cell_type": "markdown",
   "metadata": {},
   "source": [
    "![londonBigdata](../assets/londonBigdata.gif)"
   ]
  },
  {
   "cell_type": "markdown",
   "metadata": {},
   "source": [
    "Donde consultar mas a fondo los modelos canonicos\n",
    "http://elunicornio.com.ar/uso-de-modelos-canonicos/"
   ]
  },
  {
   "cell_type": "markdown",
   "metadata": {},
   "source": [
    "**La vectorización de ese modelo de negocios realmente es el primer paso para poder hacerle un modelo predictivo.**\n",
    "\n",
    "    De nuevo, ¿sabes? personalmente tengo esta creencia de que muchas de las entidades del mundo real, las personas en un nivel emocional y nuestras interacciones en el mundo, pueden ser codificadas en números, pueden ser codificadas en términos matemáticos y esto es de lo que se trata realmente convertir cosas en vectores.\n",
    "\n",
    "También hemos hablado sobre codificar imágenes, video, etc. en espacio vectorial, hablamos sobre que cada imágen tendrá diferentes pixeles, cada pixel tendrá un valor para el color que este toma, y al convertir estos valores en una gran lista, en un gran vector, los números que de nuevo, existen cómo un punto en largo espacio de n dimensiones. Y lo que hemos hecho es codificar esa entidad del mundo real en números.\n",
    "\n",
    "Y entonces conforme progresas en Machine Learning vas encontrando formas cada vez más creativas de hacerlo.\n",
    "\n",
    "Vamos a hacer este proceso en un ejemplo en breve, **digamos que para nuestra tarea de predicción para predecir el número de mililitros de medicamento a administrar en un hospital.**\n",
    "\n",
    "Tenemos cien diferentes pacientes, y cada uno existe en el espacio tridimensional, lo que significa que tienen 3 características. Así que nuestro set de entrenamiento, nuestra matriz de entrenamiento va a ser de (100 x 3) va a tener cien filas y tres columnas.\n",
    "\n",
    "A continuación tenemos un vector de respuestas, de el número de mililitros que históricamente, ha sido administrado a cada uno de estos pacientes. Y entonces, nuestro set de entrenamiento de (100 x 3) y nuestro vector, el cual efectivamente tiene cien diferentes columnas si quieres pensar verticalmente, y una sola columna.\n",
    "\n",
    "Una vez que codificamos las cosas al espacio vectorial, para poder pasarlas a nuestro modelo de Machine Learning, así es como nuestra data se tiene que ver.\n",
    "\n",
    "Cuando construimos modelos de machine learning todo es un “hiper parámetro” en otras palabras todo es una perilla que puedes girar o no girar.\n",
    "\n",
    "Desde las características que creas para tus datos, para los modelos que eliges, para los hiper parámetros con los que parametrizas esos modelos.\n"
   ]
  },
  {
   "cell_type": "code",
   "execution_count": null,
   "metadata": {
    "collapsed": true
   },
   "outputs": [],
   "source": []
  }
 ],
 "metadata": {
  "kernelspec": {
   "display_name": "Python 3",
   "language": "python",
   "name": "python3"
  },
  "language_info": {
   "codemirror_mode": {
    "name": "ipython",
    "version": 3
   },
   "file_extension": ".py",
   "mimetype": "text/x-python",
   "name": "python",
   "nbconvert_exporter": "python",
   "pygments_lexer": "ipython3",
   "version": "3.6.2"
  }
 },
 "nbformat": 4,
 "nbformat_minor": 2
}
