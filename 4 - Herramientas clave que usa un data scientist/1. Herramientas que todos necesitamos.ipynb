{
 "cells": [
  {
   "cell_type": "markdown",
   "metadata": {},
   "source": [
    "# Herramientas que todos necesitamos\n",
    "\n",
    "Para ser un miembro efectivo de un equipo profesional de data science, hay un set de herramientas de ingeniería de software que todos necesitamos saber.\n",
    "\n",
    "Es muy fácil pensar que en tu viaje a través de data science, que lo único que importa es construir modelos geniales de machine learning, construyendo modelos de inferencia estadística, etc.\n",
    "\n",
    "Pero la realidad es que cuando trabajamos como data scientist nos encontramos haciendo unas cuantas cosas.\n",
    "\n",
    "Vamos a cubrir tres herramientas principales, la primera es AWS o Amazon Web Services, la cual es una colección de servicios de cómputo basados en la nube\n",
    "\n",
    "La segunda son los comandos de la terminal que usamos para explorar datos en la terminal.\n",
    "\n",
    "Y la tercera es GIT siendo un lenguaje de control de versiones que usamos para colaborar efectivamente en una base de código\\Ncon otros data scientists e ingenieros de software.\n"
   ]
  },
  {
   "cell_type": "code",
   "execution_count": null,
   "metadata": {
    "collapsed": true
   },
   "outputs": [],
   "source": []
  }
 ],
 "metadata": {
  "kernelspec": {
   "display_name": "Python 3",
   "language": "python",
   "name": "python3"
  },
  "language_info": {
   "codemirror_mode": {
    "name": "ipython",
    "version": 3
   },
   "file_extension": ".py",
   "mimetype": "text/x-python",
   "name": "python",
   "nbconvert_exporter": "python",
   "pygments_lexer": "ipython3",
   "version": "3.6.2"
  }
 },
 "nbformat": 4,
 "nbformat_minor": 2
}
