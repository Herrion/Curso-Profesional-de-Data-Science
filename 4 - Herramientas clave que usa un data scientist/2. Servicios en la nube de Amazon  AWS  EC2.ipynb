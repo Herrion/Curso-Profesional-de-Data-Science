{
 "cells": [
  {
   "cell_type": "markdown",
   "metadata": {},
   "source": [
    "# Servicios en la nube de Amazon: AWS / EC2\n",
    "\n",
    "Cuando estamos ejecutando un sitio web, tenemos que poner el código de ese sitio en una computadora, y esta computadora es más coloquialmente conocida como un servidor. Las personas que acceden a ese sitio solicitan la información a ese servidor, y ese servidor envía respuestas de regreso a esas personas accediendo al sitio.\n",
    "\n",
    "De nuevo, este servidor no es más que una computadora.\n",
    "\n",
    "Típicamente para tener el servidor, para ejecutar el servidor, lo rentamos de un proveedor de servicios de nube. Podemos rentar esto ya sea por poco tiempo o a largo tiempo,\n",
    "a un proveedor como AWS, de Amazon Web Services.\n",
    "\n",
    "AWS tiene muchos servicios, como por ejemplo:\n",
    "\n",
    "* EC2 que significa Elastic Cloud y estos son servidores virtuales en la nube.\n",
    "* S3 significa almacenamiento Super Simple Storage, y es un lugar para guardar una gran cantidad de datos y documentos, son como discos duros en la nube.\n",
    "* Redshift, es un almacenamiento SQL basado en columnas, y lo primero es que por supuesto las bases de datos necesitan espacio para almacenar sus datos, y entonces si una organización por ejemplo tiene 50 Terabytes de datos que almacenar.\n",
    "\n"
   ]
  },
  {
   "cell_type": "code",
   "execution_count": null,
   "metadata": {
    "collapsed": true
   },
   "outputs": [],
   "source": []
  }
 ],
 "metadata": {
  "kernelspec": {
   "display_name": "Python 3",
   "language": "python",
   "name": "python3"
  },
  "language_info": {
   "codemirror_mode": {
    "name": "ipython",
    "version": 3
   },
   "file_extension": ".py",
   "mimetype": "text/x-python",
   "name": "python",
   "nbconvert_exporter": "python",
   "pygments_lexer": "ipython3",
   "version": "3.6.2"
  }
 },
 "nbformat": 4,
 "nbformat_minor": 2
}
