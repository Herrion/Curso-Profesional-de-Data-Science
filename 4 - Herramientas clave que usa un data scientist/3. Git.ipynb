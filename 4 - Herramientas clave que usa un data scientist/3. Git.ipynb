{
 "cells": [
  {
   "cell_type": "markdown",
   "metadata": {
    "collapsed": true
   },
   "source": [
    "# Git\n",
    "\n",
    "Git es un lenguaje muy popular para el control de versiones, y una herramienta que usamos para colaboración de proyectos.\n",
    "\n",
    "Al trabajar con otros desarrolladores es realmente importante que todos se mantengan organizados.\n",
    "\n",
    "Entonces Git es su propio lenguaje, al igual que Python, al igual que Ruby, al igual que R, etc.pero es un poco diferente. El alcance de Git es extremadamente limitado, nos ayuda a hacer “control de versiones” de nuestro código.\n",
    "\n",
    "Si quieres aprender más sobre Git tenemos un curso enfocando a esto\n"
   ]
  },
  {
   "cell_type": "code",
   "execution_count": null,
   "metadata": {
    "collapsed": true
   },
   "outputs": [],
   "source": []
  }
 ],
 "metadata": {
  "kernelspec": {
   "display_name": "Python 3",
   "language": "python",
   "name": "python3"
  },
  "language_info": {
   "codemirror_mode": {
    "name": "ipython",
    "version": 3
   },
   "file_extension": ".py",
   "mimetype": "text/x-python",
   "name": "python",
   "nbconvert_exporter": "python",
   "pygments_lexer": "ipython3",
   "version": "3.6.2"
  }
 },
 "nbformat": 4,
 "nbformat_minor": 2
}
